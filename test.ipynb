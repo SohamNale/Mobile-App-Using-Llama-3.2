{
  "nbformat": 4,
  "nbformat_minor": 0,
  "metadata": {
    "colab": {
      "provenance": []
    },
    "kernelspec": {
      "name": "python3",
      "display_name": "Python 3"
    },
    "language_info": {
      "name": "python"
    }
  },
  "cells": [
    {
      "cell_type": "code",
      "source": [
        "import requests\n",
        "\n",
        "# Replace this with your ngrok public URL (copied from the output of your Flask app)\n",
        "ngrok_url = \"ngrok URL\"\n",
        "\n",
        "# API endpoint\n",
        "endpoint = f\"{ngrok_url}/generate\"\n",
        "\n",
        "# Test message to send to the API\n",
        "test_message = {\n",
        "    \"message\": \"What is deep learning\"\n",
        "}\n",
        "\n",
        "# Send a POST request to the API\n",
        "try:\n",
        "    response = requests.post(endpoint, json=test_message)\n",
        "    if response.status_code == 200:\n",
        "        print(\"Response from API:\")\n",
        "        output = response.json()\n",
        "        print(output['response'])\n",
        "    else:\n",
        "        print(f\"Error: {response.status_code} - {response.text}\")\n",
        "except requests.exceptions.RequestException as e:\n",
        "    print(f\"Error connecting to the API: {e}\")\n"
      ],
      "metadata": {
        "id": "CQU1wgdVB__6"
      },
      "execution_count": null,
      "outputs": []
    }
  ]
}